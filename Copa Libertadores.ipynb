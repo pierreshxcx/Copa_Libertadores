{
 "cells": [
  {
   "cell_type": "code",
   "execution_count": null,
   "metadata": {},
   "outputs": [],
   "source": [
    "from bs4 import BeautifulSoup\n",
    "import requests\n",
    "import pandas as pd"
   ]
  },
  {
   "cell_type": "code",
   "execution_count": null,
   "metadata": {},
   "outputs": [],
   "source": [
    "url = 'https://es.wikipedia.org/wiki/Anexo:Tabla_hist%C3%B3rica_de_la_Copa_Libertadores'\n",
    "border = '1'"
   ]
  },
  {
   "cell_type": "code",
   "execution_count": null,
   "metadata": {},
   "outputs": [],
   "source": [
    "r = requests.get(url)"
   ]
  },
  {
   "cell_type": "code",
   "execution_count": null,
   "metadata": {},
   "outputs": [],
   "source": [
    "soup = BeautifulSoup(r.text, 'html.parser')"
   ]
  },
  {
   "cell_type": "code",
   "execution_count": null,
   "metadata": {},
   "outputs": [],
   "source": [
    "df = soup.find('table', attrs = {'border':border})"
   ]
  },
  {
   "cell_type": "code",
   "execution_count": null,
   "metadata": {},
   "outputs": [],
   "source": [
    "table = pd.read_html(str(df))"
   ]
  },
  {
   "cell_type": "code",
   "execution_count": null,
   "metadata": {},
   "outputs": [],
   "source": [
    "copa_libertadores = pd.DataFrame(table[0])"
   ]
  },
  {
   "cell_type": "code",
   "execution_count": null,
   "metadata": {},
   "outputs": [],
   "source": [
    "copa_libertadores.head(10)"
   ]
  },
  {
   "cell_type": "code",
   "execution_count": null,
   "metadata": {},
   "outputs": [],
   "source": [
    "tr = str.maketrans('áéíóú', 'aeiou')"
   ]
  },
  {
   "cell_type": "code",
   "execution_count": null,
   "metadata": {},
   "outputs": [],
   "source": [
    "# modificando las columnas\n",
    "copa_libertadores.columns = copa_libertadores.columns.str.lower().str.replace('.','').str.translate(tr)\n",
    "copa_libertadores.rename(columns = {'pos': 'posicion', 'part': 'participaciones'}, inplace = True)\n",
    "copa_libertadores.columns"
   ]
  },
  {
   "cell_type": "code",
   "execution_count": null,
   "metadata": {},
   "outputs": [],
   "source": [
    "# arreglando la serie de diferencia de goles (dg)\n",
    "copa_libertadores.dg = [value.strip('+').replace('–', '-') for value in copa_libertadores.dg]"
   ]
  },
  {
   "cell_type": "code",
   "execution_count": null,
   "metadata": {},
   "outputs": [],
   "source": [
    "copa_libertadores.info()"
   ]
  },
  {
   "cell_type": "code",
   "execution_count": null,
   "metadata": {},
   "outputs": [],
   "source": [
    "# arreglando el tipo de datos\n",
    "copa_libertadores.pais = copa_libertadores.pais.astype('category')\n",
    "copa_libertadores.dg = copa_libertadores.dg.astype(int)"
   ]
  },
  {
   "cell_type": "markdown",
   "metadata": {},
   "source": [
    "# Estadisticas de equipos de peruanos en la Copa Libertadores"
   ]
  },
  {
   "cell_type": "code",
   "execution_count": null,
   "metadata": {},
   "outputs": [],
   "source": [
    "import matplotlib.pyplot as plt\n",
    "import seaborn as sns\n",
    "%matplotlib inline"
   ]
  },
  {
   "cell_type": "code",
   "execution_count": null,
   "metadata": {},
   "outputs": [],
   "source": [
    "import numpy as np"
   ]
  },
  {
   "cell_type": "code",
   "execution_count": null,
   "metadata": {
    "scrolled": true
   },
   "outputs": [],
   "source": [
    "copa_libertadores.pais.value_counts()"
   ]
  },
  {
   "cell_type": "code",
   "execution_count": null,
   "metadata": {},
   "outputs": [],
   "source": [
    "# seleccionamos los 23 equipos peruanos que han participado en la copa libertadores\n",
    "eq_per = copa_libertadores[copa_libertadores.pais == 'Perú']\n",
    "eq_per.head(10)"
   ]
  },
  {
   "cell_type": "code",
   "execution_count": null,
   "metadata": {},
   "outputs": [],
   "source": [
    "sns.set()"
   ]
  },
  {
   "cell_type": "code",
   "execution_count": null,
   "metadata": {},
   "outputs": [],
   "source": [
    "# número de ediciones, victorias totales\n",
    "fig, ax = plt.subplots(1, 2)\n",
    "fig.set_size_inches([20,5])\n",
    "\n",
    "ax[0].bar(eq_per.equipo, eq_per.participaciones, color ='c')\n",
    "ax[0].set_xlabel('Equipo', fontsize = 13, fontweight = 'bold')\n",
    "ax[0].set_ylabel('Número de participaciones', fontsize = 13, fontweight = 'bold')\n",
    "ax[0].set_title('PARTICIPACIONES POR EQUIPO', fontsize = 'x-large', fontweight = 'bold')\n",
    "ax[0].set_xticklabels(eq_per.equipo, rotation = 90)\n",
    "ax[0].tick_params(labelsize = 13)\n",
    "\n",
    "ax[1].bar(eq_per.equipo, eq_per.pg, color = 'm')\n",
    "ax[1].set_xlabel('Equipo', fontsize = 13, fontweight = 'bold')\n",
    "ax[1].set_ylabel('Victorias totales conseguidas', fontsize = 13, fontweight = 'bold')\n",
    "ax[1].set_title('VICTORIAS POR EQUIPO', fontsize = 'x-large', fontweight = 'bold')\n",
    "ax[1].set_xticklabels(eq_per.equipo, rotation = 90)\n",
    "ax[1].tick_params(labelsize = 13)\n",
    "plt.show()"
   ]
  },
  {
   "cell_type": "code",
   "execution_count": null,
   "metadata": {},
   "outputs": [],
   "source": [
    "# goles totales, puntos totales\n",
    "fig, ax = plt.subplots(1,2)\n",
    "fig.set_size_inches([20,5])\n",
    "\n",
    "ax[0].bar(eq_per.equipo, eq_per.gf, color ='b')\n",
    "ax[0].set_xlabel('Equipo', fontsize = 13, fontweight = 'bold')\n",
    "ax[0].set_ylabel('Cantidad de Goles Totales', fontsize = 13, fontweight = 'bold')\n",
    "ax[0].set_title('GOLES TOTALES POR EQUIPO', fontsize = 'x-large', fontweight = 'bold')\n",
    "ax[0].set_xticklabels(eq_per.equipo, rotation = 90)\n",
    "ax[0].tick_params(labelsize = 13)\n",
    "\n",
    "ax[1].bar(eq_per.equipo, eq_per.ptos, color ='g')\n",
    "ax[1].set_xlabel('Equipo', fontsize = 13, fontweight = 'bold')\n",
    "ax[1].set_ylabel('Cantidad de Puntos Totales', fontsize = 13, fontweight = 'bold')\n",
    "ax[1].set_title('PUNTOS TOTALES POR EQUIPO', fontsize = 'x-large', fontweight = 'bold')\n",
    "ax[1].set_xticklabels(eq_per.equipo, rotation = 90)\n",
    "ax[1].tick_params(labelsize = 13)"
   ]
  },
  {
   "cell_type": "code",
   "execution_count": null,
   "metadata": {},
   "outputs": [],
   "source": [
    "def ecdf(data):\n",
    "    \"\"\"Cálculo de la funcón de distribución acumulada empírica.\"\"\"\n",
    "    # Número de observaciones: n\n",
    "    n = len(data)\n",
    "    # x-valores para la ECDF: x\n",
    "    x = sorted(data)\n",
    "    # y-valores para la ECDF: y\n",
    "    y = np.arange(1, n+1) / n\n",
    "    return x, y"
   ]
  },
  {
   "cell_type": "code",
   "execution_count": null,
   "metadata": {
    "scrolled": true
   },
   "outputs": [],
   "source": [
    "# cumulative distribution function (puntaje)\n",
    "x_puntos, y_puntos = ecdf(copa_libertadores.ptos)\n",
    "plt.figure(figsize=(8,5))\n",
    "plt.plot(x_puntos, y_puntos, marker = '.', linestyle = 'none')\n",
    "plt.ylabel('CDF')\n",
    "plt.xlabel('Puntos Totales en la Copa')\n",
    "plt.annotate('Universitario', xy = (220,0.905213), xytext = (400,0.8), \n",
    "             arrowprops = dict(facecolor='black', shrink = 0.05), fontsize = 15)\n",
    "plt.show()"
   ]
  },
  {
   "cell_type": "code",
   "execution_count": null,
   "metadata": {},
   "outputs": [],
   "source": [
    "# identificar los percentiles: u, sc y al\n",
    "cl_ecdf = pd.DataFrame({'x':x_puntos, 'y':y_puntos})\n",
    "universitario = np.round((1 - cl_ecdf[cl_ecdf.x == 220]['y'])*100, 2)\n",
    "cristal = np.round((1 - cl_ecdf[cl_ecdf.x == 184]['y'])*100, 2)\n",
    "alianza = np.round((1 - cl_ecdf[cl_ecdf.x == 142]['y'])*100, 2)\n",
    "print('PERCENTILES \\n')\n",
    "print('UNIVERSITARIO: ' + str(universitario.to_string(index = False)) +'%\\n'\\\n",
    "     'SPORTING CRISTAL: ' + str(cristal.to_string(index = False)) +'%\\n'\\\n",
    "     'ALIANZA LIMA: ' + str(alianza.to_string(index = False)) +'%')"
   ]
  },
  {
   "cell_type": "code",
   "execution_count": null,
   "metadata": {},
   "outputs": [],
   "source": [
    "import warnings\n",
    "warnings.filterwarnings('ignore')"
   ]
  },
  {
   "cell_type": "code",
   "execution_count": null,
   "metadata": {
    "scrolled": true
   },
   "outputs": [],
   "source": [
    "# victorias/edición, goles/edición, puntos/edición, victorias/partidos, goles/partidos, puntos/partidos\n",
    "# indicadores por edición\n",
    "eq_per['pg/ed'] = np.round(eq_per['pg']/eq_per['participaciones'], 2)\n",
    "eq_per['gf/ed'] = np.round(eq_per['gf']/eq_per['participaciones'], 2)\n",
    "eq_per['pts/ed'] = np.round(eq_per['ptos']/eq_per['participaciones'], 2)\n",
    "# indicadores por partido\n",
    "eq_per['pg/pj'] = np.round(eq_per['pg']/eq_per['pj'], 2)\n",
    "eq_per['pe/pj'] = np.round(eq_per['pe']/eq_per['pj'], 2)\n",
    "eq_per['pp/pj'] = np.round(eq_per['pp']/eq_per['pj'], 2)\n",
    "eq_per['gf/pj'] = np.round(eq_per['gf']/eq_per['pj'], 2)\n",
    "eq_per['pts/pj'] = np.round(eq_per['ptos']/eq_per['pj'], 2)"
   ]
  },
  {
   "cell_type": "code",
   "execution_count": null,
   "metadata": {
    "scrolled": true
   },
   "outputs": [],
   "source": [
    "# selección de los 10 mejores equipos peruanos que participaron de la Copa Libertadores\n",
    "peru_10 = eq_per.head(10)\n",
    "peru_10"
   ]
  },
  {
   "cell_type": "code",
   "execution_count": null,
   "metadata": {},
   "outputs": [],
   "source": [
    "# pg/ed, gf/ed, pts/ed\n",
    "n = len(peru_10)\n",
    "ind = np.arange(n)\n",
    "width = 0.25\n",
    "fig, ax = plt.subplots()\n",
    "fig.set_size_inches([15,5])\n",
    "cont1 = ax.bar(ind, peru_10['pg/ed'], width, color='b')\n",
    "cont2 = ax.bar(ind+width, peru_10['gf/ed'], width, color='g')\n",
    "cont3 = ax.bar(ind+width*2, peru_10['pts/ed'], width, color='m')\n",
    "ax.set_ylabel('Ratios', fontsize = 13, fontweight = 'bold')\n",
    "ax.set_xlabel('Equipos', fontsize = 13, fontweight = 'bold')\n",
    "ax.set_title('VICTORIAS, GOLES Y PUNTOS PROMEDIO POR PARTICIPACIÓN', fontsize = 'x-large', fontweight = 'bold')\n",
    "ax.set_xticks(ind + width)\n",
    "ax.set_xticklabels((peru_10.equipo), rotation = 90)\n",
    "ax.legend((cont1[0], cont2[0], cont3[0]), ('pg/ed', 'gf/ed', 'pts/ed'))\n",
    "def autolabel(conts):\n",
    "    for cont in conts:\n",
    "        height = cont.get_height()\n",
    "        ax.text(cont.get_x() + cont.get_width()/2., 1.01*height,\n",
    "                '%.2f' % height,\n",
    "                ha='center', va='bottom')\n",
    "autolabel(cont1)\n",
    "autolabel(cont2)\n",
    "autolabel(cont3)\n",
    "plt.show()"
   ]
  },
  {
   "cell_type": "code",
   "execution_count": null,
   "metadata": {},
   "outputs": [],
   "source": [
    "# pg/pj, pe/pj, pp/pj\n",
    "fig, ax = plt.subplots()\n",
    "fig.set_size_inches([7,7])\n",
    "ax.bar(peru_10.equipo, peru_10['pp/pj'], label = 'pp/pj')\n",
    "ax.bar(peru_10.equipo, peru_10['pe/pj'], bottom = peru_10['pp/pj'], label = 'pe/pj')\n",
    "ax.bar(peru_10.equipo, peru_10['pg/pj'], bottom = peru_10['pp/pj'] + peru_10['pe/pj'], label = 'pg/pj')\n",
    "ax.set_xlabel('Equipo', fontweight = 'bold')\n",
    "ax.set_ylabel('Ratios', fontweight = 'bold')\n",
    "ax.set_title('PORCIÓN DE VICTORIAS, EMPATES Y DERROTAS', fontweight = 'bold')\n",
    "ax.set_xticklabels(peru_10.equipo, rotation = 90)\n",
    "ax.legend(loc='center left', bbox_to_anchor=(1, 0.5))\n",
    "plt.show()"
   ]
  },
  {
   "cell_type": "code",
   "execution_count": null,
   "metadata": {},
   "outputs": [],
   "source": [
    "# gf/pj, pts/pj\n",
    "n = len(peru_10)\n",
    "ind = np.arange(n)\n",
    "width = 0.35\n",
    "fig, ax = plt.subplots()\n",
    "fig.set_size_inches([15,5])\n",
    "cont11 = ax.bar(ind, peru_10['gf/pj'], width, color='r')\n",
    "cont12 = ax.bar(ind+width, peru_10['pts/pj'], width, color='y')\n",
    "ax.set_ylabel('Ratios', fontsize = 13, fontweight = 'bold')\n",
    "ax.set_xlabel('Equipos', fontsize = 13, fontweight = 'bold')\n",
    "ax.set_title('GOLES PROMEDIO POR PARTIDO Y PUNTOS PROMEDIO POR PARTIDO', fontsize = 'x-large', fontweight = 'bold')\n",
    "ax.set_xticks(ind + width / 2)\n",
    "ax.set_xticklabels((peru_10.equipo), rotation = 90)\n",
    "ax.legend((cont11[0], cont12[0]), ('gf/pj', 'pts/pj'))\n",
    "autolabel(cont11)\n",
    "autolabel(cont12)\n",
    "plt.show()"
   ]
  },
  {
   "cell_type": "code",
   "execution_count": null,
   "metadata": {
    "scrolled": false
   },
   "outputs": [],
   "source": [
    "# los equipos de toda la copa con la peor diferencia de goles\n",
    "copa_libertadores.nsmallest(5, 'dg')"
   ]
  },
  {
   "cell_type": "code",
   "execution_count": null,
   "metadata": {
    "scrolled": true
   },
   "outputs": [],
   "source": [
    "# ver si hay relación entre los partidos jugados y la diferencia de goles\n",
    "fig, ax = plt.subplots(figsize = (15,5))\n",
    "markers = ['o', 'v', '^', '<', '>', 'D', '8', 'P', 's', '*', 'X']\n",
    "sns.scatterplot(x='pj', y='dg', data=copa_libertadores, hue='pais', style = 'pais', markers = markers, \n",
    "                palette=sns.hls_palette(11, l=.4), ax=ax)\n",
    "ax.set_xlabel('Partidos Jugados', fontweight = 'bold')\n",
    "ax.set_ylabel('Diferencia de Goles', fontweight = 'bold')\n",
    "ax.set_title('RELACIÓN ENTRE PARTIDOS JUGADOS Y DIFERENCIA DE GOLES', fontweight = 'bold')\n",
    "ax.legend(loc = 'center left', bbox_to_anchor = (1.05,0.5))\n",
    "ax.axhline(color = 'k', alpha = 0.7, linestyle = '--')\n",
    "ax.annotate('\"Alianza Lima\"', xy=(164, -169), xytext=(200, -150), arrowprops=dict(facecolor='black', shrink=0.05), fontsize=15)\n",
    "plt.show()"
   ]
  },
  {
   "cell_type": "markdown",
   "metadata": {},
   "source": [
    "# Estadísticas del fútbol peruano en la Copa Libertadores"
   ]
  },
  {
   "cell_type": "code",
   "execution_count": null,
   "metadata": {},
   "outputs": [],
   "source": [
    "# estadísticas de los 10 mejores equipos peruanos\n",
    "eq_per.iloc[:10, 4:13].describe()[1:]"
   ]
  },
  {
   "cell_type": "code",
   "execution_count": null,
   "metadata": {
    "scrolled": true
   },
   "outputs": [],
   "source": [
    "# los mayores exponentes por país de acuerdo al ranking o puntos\n",
    "copa_libertadores.groupby('pais').first().sort_values('posicion')"
   ]
  },
  {
   "cell_type": "code",
   "execution_count": null,
   "metadata": {
    "scrolled": true
   },
   "outputs": [],
   "source": [
    "# mostrar estadísticas agregadas por país: media, suma, mediana\n",
    "copa_libertadores.groupby('pais')[['participaciones', 'titulos', 'ptos']].agg([np.sum, np.mean, np.median])\\\n",
    "    .sort_values([('titulos','sum'),('ptos','sum')], ascending = False)"
   ]
  },
  {
   "cell_type": "markdown",
   "metadata": {},
   "source": [
    "# THE END"
   ]
  }
 ],
 "metadata": {
  "kernelspec": {
   "display_name": "Python 3",
   "language": "python",
   "name": "python3"
  },
  "language_info": {
   "codemirror_mode": {
    "name": "ipython",
    "version": 3
   },
   "file_extension": ".py",
   "mimetype": "text/x-python",
   "name": "python",
   "nbconvert_exporter": "python",
   "pygments_lexer": "ipython3",
   "version": "3.7.6"
  }
 },
 "nbformat": 4,
 "nbformat_minor": 4
}
